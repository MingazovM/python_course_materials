{
 "cells": [
  {
   "cell_type": "markdown",
   "id": "ef43214b",
   "metadata": {},
   "source": [
    "# 0. Наибольший общий делитель - 1 балл\n",
    "Напишите функцию, которая на вход принимает два целых числа, а на выходе отдает их наибольших общий делитель. \n",
    "\n",
    "Пример\n",
    "\n",
    "Ввод \n",
    "\n",
    "`lcd(10,2)`\n",
    "\n",
    "Вывод\n",
    "\n",
    "`2`\n",
    "\n",
    "Пример\n",
    "\n",
    "Ввод \n",
    "\n",
    "`lcd(10,25)`\n",
    "\n",
    "Вывод\n",
    "\n",
    "`5`"
   ]
  },
  {
   "cell_type": "code",
   "execution_count": 1,
   "id": "d227561c",
   "metadata": {},
   "outputs": [
    {
     "name": "stdout",
     "output_type": "stream",
     "text": [
      "2\n",
      "5\n"
     ]
    }
   ],
   "source": [
    "def lcd(a, b):\n",
    "    while a != b:\n",
    "        if a > b:\n",
    "            a = a - b\n",
    "        else:\n",
    "            b = b - a\n",
    "    print(a)\n",
    "\n",
    "lcd(10, 2)\n",
    "lcd(10,25)"
   ]
  },
  {
   "cell_type": "markdown",
   "id": "777171f3",
   "metadata": {},
   "source": [
    "# 1. Задачка про перевод из `camel_case`'a в `snake_case` - 1.5 балла\n",
    " Напишите функцию, которая на вход принимает строку, записанную в `CamelCase`, а переводит ее в `snake_case`.\n",
    " Подсказка: идите по строке циклом, обрабатывайте каждый символ, если символ заглавный, к обработанным ранее добавляйте нижнее подчеркивание и нынешний переводите в `lower case` \n",
    " \n",
    " Пример:\n",
    "\n",
    "**Вход**: `'camelCaseVar'`\n",
    "\n",
    "**Выход**: `'camel_сase_var'`"
   ]
  },
  {
   "cell_type": "code",
   "execution_count": 3,
   "id": "0b1bea9c",
   "metadata": {},
   "outputs": [
    {
     "name": "stdout",
     "output_type": "stream",
     "text": [
      "camel_case_var\n"
     ]
    }
   ],
   "source": [
    "def snake_case(input_str):\n",
    "    \n",
    "    output_str = ''\n",
    "    \n",
    "    for i in input_str:\n",
    "        if i.isupper() == True:\n",
    "            output_str += \"_\" + i.lower()\n",
    "        else:\n",
    "            output_str += i\n",
    "        \n",
    "    print(output_str)\n",
    "\n",
    "snake_case('camelCaseVar')"
   ]
  },
  {
   "cell_type": "markdown",
   "id": "929847a2",
   "metadata": {},
   "source": [
    "# 2. Про Поросёнка Петра - 2 балла\n",
    "На плоскости в точке `(0,0)` стоит Поросёнок Пётр. Он умеет ходить налево, направо, вверх и вниз. Расстояние его прохода в какую-либо сторону измеряется в шагах. Когда он идет вправо, его первая координата увеличивается, когда влево - уменьшается. Когда он идет вверх, его вторая координата увеличивается, а когда вниз - уменьшается.\n",
    "С клавиатуры считывается число `N` - число ходов, которые сделает Пётр. После чего на каждом шаге спрашивается, сколько шагов и в какую сторону за этот ход Пётр сделает. Так происходит, пока Пётр не осуществит все N ходов.\n",
    "Программа должна вывести, сколько шагов Пётр должен был бы сделать, чтобы кратчайшим путем прибыть из свое начальной точки `(0,0)` в свою конечную точку. \n",
    "\n",
    "Напоминание: Пётр умеет ходить только вверх-вниз, и влево-вправо, но не по диагонали.\n",
    "\n",
    "Пример ввода:\n",
    "\n",
    "Введите N: `3`\n",
    "\n",
    "Ход 1: `Вверх 1`\n",
    "\n",
    "Ход 2: `Вниз 1`\n",
    "\n",
    "Ход 3: `Вверх 1`\n",
    "\n",
    "Пример вывода:\n",
    "`Пётр находится на расстоянии 1 от (0,0)`"
   ]
  },
  {
   "cell_type": "code",
   "execution_count": 4,
   "id": "e4822777",
   "metadata": {},
   "outputs": [
    {
     "name": "stdout",
     "output_type": "stream",
     "text": [
      "Введите N: 3\n",
      "Ход 1: Вверх 1\n",
      "Ход 2: Вниз 1\n",
      "Ход 3: Вверх 1\n",
      "Петр находится на расстоянии 1 от (0,0)\n"
     ]
    }
   ],
   "source": [
    "x = 0\n",
    "y = 0\n",
    "\n",
    "steps = int(input('Введите N: '))\n",
    "\n",
    "for step in range(0, steps):\n",
    "    \n",
    "    current_step = input(f'Ход {step + 1}: ')\n",
    "    \n",
    "    direction, distance = current_step.split()\n",
    "    \n",
    "    if direction == 'Вверх':\n",
    "        y += int(distance)\n",
    "    \n",
    "    if direction == 'Вниз':\n",
    "        y -= int(distance)\n",
    "    \n",
    "    if direction == 'Вправо':\n",
    "        x += int(distance)\n",
    "    \n",
    "    if direction == 'Влево':\n",
    "        x -= int(distance)\n",
    "\n",
    "print(f'Петр находится на расстоянии {abs(x) + abs(y)} от (0,0)')\n"
   ]
  },
  {
   "cell_type": "markdown",
   "id": "818909ca",
   "metadata": {},
   "source": [
    "# 3. Sort the keys of the dictionary from a to z.  - 0.5 балла"
   ]
  },
  {
   "cell_type": "code",
   "execution_count": 6,
   "id": "b81d45f3",
   "metadata": {},
   "outputs": [
    {
     "name": "stdout",
     "output_type": "stream",
     "text": [
      "{'cheesecake': 4, 'chocolate': 2, 'pudding': 3, 'tiramisu': 5}\n"
     ]
    }
   ],
   "source": [
    "d = {\"tiramisu\":5, \"chocolate\":2, \"pudding\":3, \"cheesecake\":4}\n",
    "\n",
    "print(dict(sorted(d.items())))"
   ]
  },
  {
   "cell_type": "markdown",
   "id": "77275ebf",
   "metadata": {},
   "source": [
    "# 4. Compare three values, return true only if 2 or more values are equal - 0.5 балла"
   ]
  },
  {
   "cell_type": "code",
   "execution_count": 7,
   "id": "d0893272",
   "metadata": {},
   "outputs": [
    {
     "name": "stdout",
     "output_type": "stream",
     "text": [
      "True\n"
     ]
    }
   ],
   "source": [
    "def compare(a, b, c):\n",
    "    if a == b or a == c or b == c:\n",
    "        print('True')\n",
    "    else:\n",
    "        print('False')\n",
    "compare(1, 8, 8)"
   ]
  },
  {
   "cell_type": "markdown",
   "id": "895340c0",
   "metadata": {},
   "source": [
    "# 5. Given a list with pairs, sort on the sum of pairs - 0.5 балла"
   ]
  },
  {
   "cell_type": "code",
   "execution_count": 8,
   "id": "7a8971e2",
   "metadata": {},
   "outputs": [
    {
     "name": "stdout",
     "output_type": "stream",
     "text": [
      "[(3, 1), (3, 6), (4, 7), (8, 4), (5, 9)]\n"
     ]
    }
   ],
   "source": [
    "x = [(3,6),(4,7),(5,9),(8,4),(3,1)]\n",
    "\n",
    "new_x = {}\n",
    "\n",
    "for i in x:\n",
    "    summ = 0\n",
    "    for n in i:\n",
    "        summ += n\n",
    "    new_x[summ] = i\n",
    "\n",
    "print(list(dict(sorted(new_x.items())).values()))"
   ]
  },
  {
   "cell_type": "markdown",
   "id": "be5b7018",
   "metadata": {},
   "source": [
    "# 6. Create a function that takes a list of numbers. Return the largest number in the list. - 0.5 балла"
   ]
  },
  {
   "cell_type": "code",
   "execution_count": 9,
   "id": "2ddbc7bf",
   "metadata": {},
   "outputs": [
    {
     "name": "stdout",
     "output_type": "stream",
     "text": [
      "5\n",
      "600\n",
      "1001\n"
     ]
    }
   ],
   "source": [
    "def findLargestNum(lst):\n",
    "    \n",
    "    lst.sort()\n",
    "    print(lst[-1])\n",
    "\n",
    "findLargestNum([4, 5, 1, 3]) #➞ 5\n",
    "\n",
    "findLargestNum([300, 200, 600, 150]) #➞ 600\n",
    "\n",
    "findLargestNum([1000, 1001, 857, 1]) #➞ 1001"
   ]
  },
  {
   "cell_type": "markdown",
   "id": "17918763",
   "metadata": {},
   "source": [
    "# 7. Create a function that takes a string and returns the concatenated first and last character. - 0.5 балла"
   ]
  },
  {
   "cell_type": "code",
   "execution_count": 10,
   "id": "7062bfdb",
   "metadata": {},
   "outputs": [
    {
     "name": "stdout",
     "output_type": "stream",
     "text": [
      "ababab\n",
      "kiwi\n",
      "cherrycherry\n"
     ]
    }
   ],
   "source": [
    "def repetition(*lst):\n",
    "    \n",
    "    first = lst[0]\n",
    "    last = lst[-1]\n",
    "    print(first * last)\n",
    "\n",
    "repetition(\"ab\", 3) #➞ \"ababab\"\n",
    "\n",
    "repetition(\"kiwi\", 1) #➞ \"kiwi\"\n",
    "\n",
    "repetition(\"cherry\", 2) #➞ \"cherrycherry\""
   ]
  },
  {
   "cell_type": "markdown",
   "id": "5c2fe48a",
   "metadata": {},
   "source": [
    "# 8. Create a function that takes a 2D list lst returns the sum of the minimum value in each row. - 0.5 балла"
   ]
  },
  {
   "cell_type": "code",
   "execution_count": 11,
   "id": "c3232abb",
   "metadata": {},
   "outputs": [
    {
     "name": "stdout",
     "output_type": "stream",
     "text": [
      "26\n"
     ]
    }
   ],
   "source": [
    "# minimum value of the first row is 1\n",
    "# minimum value of the second row is 5\n",
    "# minimum value of the third row is 20\n",
    "    \n",
    "def sum_minimums(lst):\n",
    "    summ = 0\n",
    "    for i in range(len(lst)):\n",
    "        lst[i].sort()\n",
    "        a = lst[i][0]\n",
    "        summ += a\n",
    "    print(summ)\n",
    "\n",
    "sum_minimums([\n",
    "  [2, 1, 3, 4, 5],\n",
    "  [5, 6, 7, 8, 9],\n",
    "  [20, 21, 34, 56, 100]\n",
    "])"
   ]
  },
  {
   "cell_type": "markdown",
   "id": "88c6709f",
   "metadata": {},
   "source": [
    "# 9. Create a function to return the amount of potatoes there are in a string. - 0.5 балла"
   ]
  },
  {
   "cell_type": "code",
   "execution_count": 12,
   "id": "e2610cbd",
   "metadata": {},
   "outputs": [
    {
     "name": "stdout",
     "output_type": "stream",
     "text": [
      "1\n",
      "2\n",
      "1\n"
     ]
    }
   ],
   "source": [
    "def potatoes(lst):\n",
    "    print(lst.count('potato'))\n",
    "\n",
    "potatoes(\"potato\") #➞ 1\n",
    "\n",
    "potatoes(\"potatopotato\") #➞ 2\n",
    "\n",
    "potatoes(\"potatoapple\") #➞ 1"
   ]
  },
  {
   "cell_type": "markdown",
   "id": "7fb5aa44",
   "metadata": {},
   "source": [
    "# 10. Create a function that takes a list of integers as an argument and returns a unique number from that list. All numbers except unique ones have the same number of occurrences in the list. - 0.5 балла"
   ]
  },
  {
   "cell_type": "code",
   "execution_count": null,
   "id": "a43f80e0",
   "metadata": {},
   "outputs": [],
   "source": [
    "find_single_number([2, 2, 2, 3, 4, 4, 4]) ➞ 3\n",
    "\n",
    "find_single_number([2]) ➞ 2\n",
    "\n",
    "find_single_number([]) ➞ None\n",
    "\n",
    "find_single_number([7, 13, 3, 6, 5, 4, 4, 13, 5, 3, 6, 7, 6, 5, 3, 13, 4, 7, 13, 5, 7, 4, 3, 6, 8, 4, 3, 7, 5, 6, 13]) ➞ 8\n",
    "\n",
    "find_single_number([1, 2, 3, 6, 5, 4, 4, 2, 5, 3, 6, 1, 6, 5, 3, 2, 4, 1, 2, 5, 1, 4, 3, 6, 101, 4, 3, 1, 5, 6, 2]) ➞ 101\n"
   ]
  },
  {
   "cell_type": "markdown",
   "id": "0313ea52",
   "metadata": {},
   "source": [
    "# 11. Given a letter and a list of words, return whether the letter does not appear in any of the words. - 0.5 балла"
   ]
  },
  {
   "cell_type": "code",
   "execution_count": null,
   "id": "0cb649a5",
   "metadata": {},
   "outputs": [],
   "source": [
    "forbidden_letter(\"r\", [\"rock\", \"paper\", \"scissors\"]) #➞ False\n",
    "\n",
    "forbidden_letter(\"a\", [\"spoon\", \"fork\", \"knife\"]) #➞ True\n",
    "\n",
    "forbidden_letter(\"m\", []) #➞ True"
   ]
  },
  {
   "cell_type": "markdown",
   "id": "0a7ef5b5",
   "metadata": {},
   "source": [
    "# 12.  Define a function which create a Pattern like this one.  - 2 балла"
   ]
  },
  {
   "cell_type": "code",
   "execution_count": null,
   "id": "7617ebb7",
   "metadata": {},
   "outputs": [],
   "source": [
    "Input: 4\n",
    "Pattern:\n",
    "\n",
    " 01234\n",
    "  | |     0\n",
    " -----    1\n",
    "  | |     2\n",
    " -----    3\n",
    "  | |     4"
   ]
  },
  {
   "cell_type": "code",
   "execution_count": 13,
   "id": "5d3b0cdd",
   "metadata": {},
   "outputs": [
    {
     "name": "stdout",
     "output_type": "stream",
     "text": [
      "Input: 22 \n",
      "Pattern: \n",
      "\n",
      "012345678910111213141516171819202122\n",
      "  | |      0\n",
      " -----     1\n",
      "  | |      2\n",
      " -----     3\n",
      "  | |      4\n",
      " -----     5\n",
      "  | |      6\n",
      " -----     7\n",
      "  | |      8\n",
      " -----     9\n",
      "  | |      10\n",
      " -----     11\n",
      "  | |      12\n",
      " -----     13\n",
      "  | |      14\n",
      " -----     15\n",
      "  | |      16\n",
      " -----     17\n",
      "  | |      18\n",
      " -----     19\n",
      "  | |      20\n",
      " -----     21\n",
      "  | |      22\n"
     ]
    }
   ],
   "source": [
    "def Pattern(num):\n",
    "    print('Input:', num,'\\n''Pattern:', '\\n')\n",
    "\n",
    "    for i in range(0, num + 1):\n",
    "        print(i, end='')\n",
    "\n",
    "    for j in range(0, num + 1):\n",
    "        if j == 0:\n",
    "            print('\\n''  | |     ', 0)\n",
    "        elif j % 2 != 0:\n",
    "            print(' -----    ', j)\n",
    "        elif j % 2 == 0:\n",
    "            print('  | |     ', j)\n",
    "\n",
    "Pattern(22)"
   ]
  },
  {
   "cell_type": "markdown",
   "id": "0d5edcd1",
   "metadata": {},
   "source": [
    "# 13. Create a function that takes three numbers as arguments and returns True if it's a triangle and False if not.  - 0.5 балла"
   ]
  },
  {
   "cell_type": "code",
   "execution_count": null,
   "id": "d867302c",
   "metadata": {},
   "outputs": [],
   "source": [
    "def is_triangle(a, b, c):\n",
    "    if a + b > c and a + c > b and b + c > a:\n",
    "        print(True)\n",
    "    else:\n",
    "        print(False)\n",
    "\n",
    "is_triangle(2, 3, 4) #➞ True\n",
    "\n",
    "is_triangle(3, 4, 5) #➞ True\n",
    "\n",
    "is_triangle(4, 3, 8) #➞ False"
   ]
  },
  {
   "cell_type": "markdown",
   "id": "2bdfb66e",
   "metadata": {},
   "source": [
    "# 14. Create a \"Code\" Generator that takes text as input and replaces some letter with another letter, and outputs the \"encoded\" message. Create funcs to encode and decode messages"
   ]
  },
  {
   "cell_type": "code",
   "execution_count": null,
   "id": "0caf2b35",
   "metadata": {},
   "outputs": [],
   "source": [
    "replacement = {\"a\": \"b\", \"d\": \"1\" ......}"
   ]
  }
 ],
 "metadata": {
  "kernelspec": {
   "display_name": "Python 3 (ipykernel)",
   "language": "python",
   "name": "python3"
  },
  "language_info": {
   "codemirror_mode": {
    "name": "ipython",
    "version": 3
   },
   "file_extension": ".py",
   "mimetype": "text/x-python",
   "name": "python",
   "nbconvert_exporter": "python",
   "pygments_lexer": "ipython3",
   "version": "3.9.1"
  }
 },
 "nbformat": 4,
 "nbformat_minor": 5
}
