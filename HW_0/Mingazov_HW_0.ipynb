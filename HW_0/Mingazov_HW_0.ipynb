{
 "cells": [
  {
   "cell_type": "markdown",
   "id": "4aae3dfe",
   "metadata": {},
   "source": [
    "## Вывод (std out)"
   ]
  },
  {
   "cell_type": "code",
   "execution_count": null,
   "id": "19d51336",
   "metadata": {},
   "outputs": [],
   "source": [
    "## Напишите программу, которая вводит строки без newline или space (не забудьте что print принимает сколько угодно аргументов)\n",
    "\n",
    "# Тестовые данные\n",
    "\n",
    "# 1, 5, 8, 3 -> 1583\n",
    "# 1, \"new\", 8, \"old\" -> 1new8old"
   ]
  },
  {
   "cell_type": "code",
   "execution_count": 1,
   "id": "c3eb8ae6",
   "metadata": {},
   "outputs": [
    {
     "name": "stdout",
     "output_type": "stream",
     "text": [
      "1new8old"
     ]
    }
   ],
   "source": [
    "string = 1, \"new\", 8, \"old\"\n",
    "\n",
    "for i in range(len(string)):\n",
    "    print(string[i], end='')"
   ]
  },
  {
   "cell_type": "markdown",
   "id": "c6a2735e",
   "metadata": {},
   "source": [
    "## Арифметика "
   ]
  },
  {
   "cell_type": "code",
   "execution_count": null,
   "id": "bc23a479",
   "metadata": {},
   "outputs": [],
   "source": [
    "## Расчитайте расстояние между двумя заданными точками (math.sqrt) заданными в двумерном пространстве\n",
    "\n",
    "# Тестовые данные\n",
    "\n",
    "# [0, 0], [1, 1] -> 1.4142135623730951\n",
    "# [0, 1], [1, 5] -> 4.123105625617661\n",
    "# [4, 1], [12, 5] -> 8.94427190999916"
   ]
  },
  {
   "cell_type": "code",
   "execution_count": 4,
   "id": "5f9b4bcd",
   "metadata": {},
   "outputs": [
    {
     "name": "stdout",
     "output_type": "stream",
     "text": [
      "Введите координат x первой точки: 4\n",
      "Введите координат y первой точки: 1\n",
      "Введите координат x второй точки: 12\n",
      "Введите координат y второй точки: 5\n",
      "Расстояние между точками равно:  8.94427190999916\n"
     ]
    }
   ],
   "source": [
    "x1 = int(input(\"Введите координат x первой точки: \"))\n",
    "y1 = int(input(\"Введите координат y первой точки: \"))\n",
    "\n",
    "x2 = int(input(\"Введите координат x второй точки: \"))\n",
    "y2 = int(input(\"Введите координат y второй точки: \"))\n",
    "\n",
    "distance = (x2 - x1) ** 2 + ((y2 - y1) ** 2)\n",
    "\n",
    "import math\n",
    "                                     \n",
    "print(\"Расстояние между точками равно: \", math.sqrt(distance))"
   ]
  },
  {
   "cell_type": "markdown",
   "id": "6c5d4192",
   "metadata": {},
   "source": [
    "## Списки"
   ]
  },
  {
   "cell_type": "code",
   "execution_count": 5,
   "id": "ace65e2e",
   "metadata": {},
   "outputs": [],
   "source": [
    "## Посчитайте сумму элементов в списке (только тех, что чей тип float)\n",
    "\n",
    "# Тестовые данные\n",
    "\n",
    "color_list = [0.1,\"зеленый\", 1.6, \"белый\", 0.3, \"черный\", 7, \"2.0\"]\n",
    "\n",
    "# ответ: 2"
   ]
  },
  {
   "cell_type": "code",
   "execution_count": 6,
   "id": "5f295fff",
   "metadata": {},
   "outputs": [
    {
     "name": "stdout",
     "output_type": "stream",
     "text": [
      "2\n"
     ]
    }
   ],
   "source": [
    "i = 0\n",
    "\n",
    "summurise = 0\n",
    "\n",
    "while i < len(color_list):\n",
    "    \n",
    "    if type(color_list[i]) == float:\n",
    "        summurise = summurise + color_list[i]\n",
    "        i += 1\n",
    "    else:\n",
    "        i += 1\n",
    "        continue\n",
    "\n",
    "print(int(summurise))"
   ]
  },
  {
   "cell_type": "code",
   "execution_count": 7,
   "id": "f5efd6f8",
   "metadata": {},
   "outputs": [],
   "source": [
    "## Отобразите с помощью print только первый и последний элемент списка (цикл while)\n",
    "\n",
    "# Тестовые данные\n",
    "\n",
    "color_list = [\"красный\",\"зеленый\",\"белый\" ,\"черный\"]"
   ]
  },
  {
   "cell_type": "code",
   "execution_count": 8,
   "id": "7c0bbff8",
   "metadata": {},
   "outputs": [
    {
     "name": "stdout",
     "output_type": "stream",
     "text": [
      "красный\n",
      "черный\n"
     ]
    }
   ],
   "source": [
    "i = 0\n",
    "\n",
    "while i in (0, -1):\n",
    "    print(color_list[i])\n",
    "    i -= 1"
   ]
  },
  {
   "cell_type": "code",
   "execution_count": null,
   "id": "0120e466",
   "metadata": {},
   "outputs": [],
   "source": [
    "## Проверьте есть ли в данный элемент в списке, если есть выведите с помощью print \"Element такой то was found\", если элемента не нашлось выведите \"Clear\" (цикл while) \n",
    "\n",
    "# Тестовые данные\n",
    "\n",
    "# 3 -> [1, 5, 8, 3] -> \"Element 3 was found\"\n",
    "# -1 -> [1, 5, 8, 3] -> \"Clear\"\n",
    "# \"color\" -> [1, \"color\", 1.3, 3] ->  \"Element color was found\"\n"
   ]
  },
  {
   "cell_type": "code",
   "execution_count": 11,
   "id": "f9a01251",
   "metadata": {},
   "outputs": [
    {
     "name": "stdout",
     "output_type": "stream",
     "text": [
      "Element color was found\n"
     ]
    }
   ],
   "source": [
    "first_list = [1, \"color\", 1.3, 3]\n",
    "\n",
    "argument = \"color\"\n",
    "\n",
    "i = 0\n",
    "\n",
    "while i < len(first_list):\n",
    "    i += 1\n",
    "    if argument in first_list:\n",
    "        print(\"Element\", argument, \"was found\")\n",
    "        break\n",
    "    else:\n",
    "        print(\"Clear\")\n",
    "        break"
   ]
  },
  {
   "cell_type": "code",
   "execution_count": null,
   "id": "824424aa",
   "metadata": {},
   "outputs": [],
   "source": [
    "## Пройдите по списку и объедините все элементы из списка в одну строку через пробел (цикл while)\n",
    "\n",
    "# Тестовые данные\n",
    "\n",
    "# [\"9\", \"caMii\", \" /\\y4LLIii\", \"proger\", \"v\", \"2022\", \"roDy\"] -> 9 caMii  /\\y4LLIii proger v 2022 roDy"
   ]
  },
  {
   "cell_type": "code",
   "execution_count": 12,
   "id": "cfc88772",
   "metadata": {},
   "outputs": [
    {
     "name": "stdout",
     "output_type": "stream",
     "text": [
      " 9 caMii  /\\y4LLIii proger v 2022 roDy\n"
     ]
    }
   ],
   "source": [
    "input_lst = [\"9\", \"caMii\", \" /\\y4LLIii\", \"proger\", \"v\", \"2022\", \"roDy\"]\n",
    "\n",
    "output = \"\"\n",
    "\n",
    "i = 0\n",
    "\n",
    "while i < len(input_lst):\n",
    "    output = output + \" \" + input_lst[i]\n",
    "    i += 1\n",
    "\n",
    "print(output)"
   ]
  },
  {
   "cell_type": "code",
   "execution_count": 13,
   "id": "1c52c4b8",
   "metadata": {},
   "outputs": [],
   "source": [
    "## Пройдите по двум списка сразу и выведите сразу по два элемента - один из одного списка, другой из другого \n",
    "## (подсказка - обращайтесь по индексу к элементам обоих списков)\n",
    "\n",
    "# Тестовые данные\n",
    "\n",
    "color_list_1 = [\"White\", \"Black\", \"Red\"]\n",
    "color_list_2 = [\"Red\", \"Green\", \"White\"]\n",
    "\n",
    "# White Red\n",
    "# Black Green\n",
    "# Red White"
   ]
  },
  {
   "cell_type": "code",
   "execution_count": 14,
   "id": "5321fd43",
   "metadata": {},
   "outputs": [
    {
     "name": "stdout",
     "output_type": "stream",
     "text": [
      "White Red\n",
      "Black Green\n",
      "Red White\n"
     ]
    }
   ],
   "source": [
    "i = 0\n",
    "\n",
    "while i < len(color_list_1):\n",
    "    first = color_list_1[i]\n",
    "    second = color_list_2[i]\n",
    "    i += 1\n",
    "    print(first, second)"
   ]
  },
  {
   "cell_type": "code",
   "execution_count": 15,
   "id": "9d59ec07",
   "metadata": {},
   "outputs": [],
   "source": [
    "## Пройдите по списку и выводите каждый следующий элемент столько раз какой у него ((индекс + 1) * 3) в списке (цикл while) \n",
    "\n",
    "# Тестовые данные\n",
    "\n",
    "a = [\"a\", \"b\", \"c\", \"d\"] \n",
    "\n",
    "# ответ -> \"aaabbbbbbcccccccccdddddddddddd\"\n",
    "\n",
    "answer = \"aaabbbbbbcccccccccdddddddddddd\""
   ]
  },
  {
   "cell_type": "code",
   "execution_count": 16,
   "id": "8aba0c82",
   "metadata": {},
   "outputs": [
    {
     "name": "stdout",
     "output_type": "stream",
     "text": [
      "aaabbbbbbcccccccccdddddddddddd\n"
     ]
    }
   ],
   "source": [
    "a = [\"a\", \"b\", \"c\", \"d\"] \n",
    "\n",
    "output_str = \"\"\n",
    "\n",
    "i = 0\n",
    "\n",
    "while i < len(a):\n",
    "    num = (i + 1) * 3\n",
    "    letter = a[i] * num\n",
    "    output_str += letter\n",
    "    i += 1\n",
    "\n",
    "print(output_str)"
   ]
  },
  {
   "cell_type": "code",
   "execution_count": 17,
   "id": "786b4dc8",
   "metadata": {},
   "outputs": [
    {
     "data": {
      "text/plain": [
       "True"
      ]
     },
     "execution_count": 17,
     "metadata": {},
     "output_type": "execute_result"
    }
   ],
   "source": [
    "# доп. проверка \n",
    "\n",
    "output_str == answer"
   ]
  },
  {
   "cell_type": "code",
   "execution_count": 18,
   "id": "bfd569fd",
   "metadata": {},
   "outputs": [],
   "source": [
    "## Зайдите в каждый масив внутри (если это список) и рассортируйте мне элементы по соответствующим спискам (не забудьте про append)\n",
    "\n",
    "sample = [[\"a\", \"b\", 1, 2.4], \"string\", [\"new\", 11111, 1000.0, \"old\"]]\n",
    "\n",
    "\n",
    "integers = []\n",
    "floats = []\n",
    "strings = []\n",
    "\n",
    "# ответ\n",
    "# integers -> [1, 11111]\n",
    "# floats -> [2.4, 1000.0]\n",
    "# strings -> [\"a\", \"b\", \"string\", \"new\", \"old\"]"
   ]
  },
  {
   "cell_type": "code",
   "execution_count": 19,
   "id": "c437f233",
   "metadata": {},
   "outputs": [
    {
     "name": "stdout",
     "output_type": "stream",
     "text": [
      "[1, 11111]\n",
      "[2.4, 1000.0]\n",
      "['a', 'b', 'string', 'new', 'old']\n"
     ]
    }
   ],
   "source": [
    "for i in range(len(sample)):\n",
    "\n",
    "    if type(sample[i]) == list:\n",
    "\n",
    "        new_list = sample[i]\n",
    "\n",
    "        for a in new_list:\n",
    "            if type(a) == int:\n",
    "                integers.append(a)\n",
    "            elif type(a) == float:\n",
    "                floats.append(a)\n",
    "            elif type(a) == str:\n",
    "                strings.append(a)\n",
    "        \n",
    "\n",
    "    elif type(sample[i]) == int:\n",
    "        integers.append(sample[i])\n",
    "    \n",
    "    elif type(sample[i]) == float:\n",
    "        floats.append(sample[i])\n",
    "    \n",
    "    elif type(sample[i]) == str:\n",
    "        strings.append(sample[i])\n",
    "    \n",
    "print(integers)\n",
    "print(floats)\n",
    "print(strings)"
   ]
  },
  {
   "cell_type": "markdown",
   "id": "4d785ec2",
   "metadata": {},
   "source": [
    "## Библиотеки "
   ]
  },
  {
   "cell_type": "code",
   "execution_count": null,
   "id": "0937e5e0",
   "metadata": {},
   "outputs": [],
   "source": [
    "## Напишите программу, которая выводит настоящее время ( то есть в ремя в которую программа запущена, используйте либу - time) \n",
    "\n",
    "# Тестовые данные (например)\n",
    "\n",
    "# 'Sat Oct  1 00:34:36 2022'"
   ]
  },
  {
   "cell_type": "code",
   "execution_count": 20,
   "id": "093d3c4b",
   "metadata": {},
   "outputs": [
    {
     "name": "stdout",
     "output_type": "stream",
     "text": [
      "Sun Oct 16 17:04:56 2022\n"
     ]
    }
   ],
   "source": [
    "import time\n",
    "\n",
    "current_time = time.strftime(\"%a %b %d %H:%M:%S %Y\")\n",
    "\n",
    "print(current_time)"
   ]
  }
 ],
 "metadata": {
  "kernelspec": {
   "display_name": "Python 3 (ipykernel)",
   "language": "python",
   "name": "python3"
  },
  "language_info": {
   "codemirror_mode": {
    "name": "ipython",
    "version": 3
   },
   "file_extension": ".py",
   "mimetype": "text/x-python",
   "name": "python",
   "nbconvert_exporter": "python",
   "pygments_lexer": "ipython3",
   "version": "3.9.1"
  }
 },
 "nbformat": 4,
 "nbformat_minor": 5
}
