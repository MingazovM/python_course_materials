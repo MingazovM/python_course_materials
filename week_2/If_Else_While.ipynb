{
 "cells": [
  {
   "cell_type": "markdown",
   "metadata": {
    "id": "iYI77HlhDJNI"
   },
   "source": [
    "# Условный оператор, цикл while"
   ]
  },
  {
   "cell_type": "markdown",
   "metadata": {
    "id": "1c_vgvcRDJNJ"
   },
   "source": [
    "# Условия"
   ]
  },
  {
   "cell_type": "markdown",
   "metadata": {
    "id": "zDeqzpPkDJNK"
   },
   "source": [
    "Условия это, наверное, душа программирования. Мы очень часто хотим, чтобы наша программа работала по разному в зависимости от происходящего. Алгоритмы, использующие условия, называют разветвляющимися, и для их понимания очень удобно рисовать блок-схемы (нет, они не остались в школе, если в коде много условий и разных действий по-прежнему очень помогает нарисовать на бумаге дерево). \n",
    "\n",
    "**Условия (`if`)** позволяют выполнять код только в случае истинности какого-то логического выражения.\n",
    "\n",
    "Проще говоря, \"если верно, что..., то сделать ...\".\n",
    "\n",
    "Самый простой пример использования `if` - это вывод какой-то фразы по условию."
   ]
  },
  {
   "cell_type": "code",
   "execution_count": 1,
   "metadata": {
    "colab": {
     "base_uri": "https://localhost:8080/"
    },
    "id": "UWl3D4piDJNL",
    "outputId": "f14baf89-84e4-42b7-de66-de4e7582c0c7"
   },
   "outputs": [
    {
     "name": "stdout",
     "output_type": "stream",
     "text": [
      "That is true!\n"
     ]
    }
   ],
   "source": [
    "x = 1\n",
    "if x == 1:  # Выражение равно True, это условие истинное\n",
    "    print('That is true!')  # Фраза выводится"
   ]
  },
  {
   "cell_type": "code",
   "execution_count": 2,
   "metadata": {
    "id": "6WqqqSHADJNM"
   },
   "outputs": [],
   "source": [
    "if x != 1:  # Выражение равно False, это условие ложное\n",
    "    print('That is true!')  # Фраза не выводится"
   ]
  },
  {
   "cell_type": "markdown",
   "metadata": {
    "id": "Rg7g5DYaDJNM"
   },
   "source": [
    "Обратите внимание, что код, который находится внутри условия, выделяется отступом в 4 пробела или табуляцией (работает не во всех IDE, но в Jupyter все будет хорошо).\n",
    "\n",
    "Иначе программа не поймет, что он относится к условию."
   ]
  },
  {
   "cell_type": "code",
   "execution_count": 3,
   "metadata": {
    "colab": {
     "base_uri": "https://localhost:8080/",
     "height": 130
    },
    "id": "6tAOLffwDJNN",
    "outputId": "7ddba1b7-d5e2-4c10-d94c-0493334db8b2"
   },
   "outputs": [
    {
     "ename": "IndentationError",
     "evalue": "expected an indented block (1792518883.py, line 2)",
     "output_type": "error",
     "traceback": [
      "\u001b[0;36m  Input \u001b[0;32mIn [3]\u001b[0;36m\u001b[0m\n\u001b[0;31m    print('That is true!')\u001b[0m\n\u001b[0m    ^\u001b[0m\n\u001b[0;31mIndentationError\u001b[0m\u001b[0;31m:\u001b[0m expected an indented block\n"
     ]
    }
   ],
   "source": [
    "if x == 1:\n",
    "print('That is true!')"
   ]
  },
  {
   "cell_type": "markdown",
   "metadata": {
    "id": "Vx4-7KjDDJNO"
   },
   "source": [
    "А что делать, если в том случае, когда условие не истинное, мы тоже хотим совершать какое-то действие? Для этого у нас есть ключевое слово **`else` (\"то\")**. "
   ]
  },
  {
   "cell_type": "code",
   "execution_count": 4,
   "metadata": {
    "colab": {
     "base_uri": "https://localhost:8080/"
    },
    "id": "96BoJSIVDJNO",
    "outputId": "66ec7b75-e5fe-41a4-b531-ce10fa3c4faa"
   },
   "outputs": [
    {
     "name": "stdout",
     "output_type": "stream",
     "text": [
      "That is false!\n"
     ]
    }
   ],
   "source": [
    "if x != 1:\n",
    "    print('That is true!')\n",
    "else:\n",
    "    print('That is false!')"
   ]
  },
  {
   "cell_type": "markdown",
   "metadata": {
    "id": "hUigITIDDJNP"
   },
   "source": [
    "Мы разобрались, как поступать, если у нас два варианта действий, но их может быть и больше.\n",
    "\n",
    "Для примера давайте решим простую задачу - найти минимум из двух введенных чисел. Пока ничего нового:"
   ]
  },
  {
   "cell_type": "code",
   "execution_count": 5,
   "metadata": {
    "colab": {
     "base_uri": "https://localhost:8080/"
    },
    "id": "BZuyqwTZDJNP",
    "outputId": "bd230341-1162-4f51-c7ee-76f5141c941c"
   },
   "outputs": [
    {
     "name": "stdout",
     "output_type": "stream",
     "text": [
      "Введите первое число: 4\n",
      "Введите второе число: 5\n",
      "Минимум равен 4\n"
     ]
    }
   ],
   "source": [
    "a = int(input('Введите первое число: '))\n",
    "b = int(input('Введите второе число: '))\n",
    "if a < b:\n",
    "    minimum = a\n",
    "else:\n",
    "    minimum = b\n",
    "print('Минимум равен', minimum)"
   ]
  },
  {
   "cell_type": "markdown",
   "metadata": {
    "id": "PVZqXYFNDJNQ"
   },
   "source": [
    "А теперь усложним задание, добавив третий вариант развития событий - если числа равны, будем печатать *'Равные числа'*.\n",
    "\n",
    "Можно решить эту задачу с помощью вложенных условий:"
   ]
  },
  {
   "cell_type": "code",
   "execution_count": 7,
   "metadata": {
    "colab": {
     "base_uri": "https://localhost:8080/"
    },
    "id": "1xbQlg0LDJNQ",
    "outputId": "25190b82-15a9-4082-cf85-0c23d7974b4f"
   },
   "outputs": [
    {
     "name": "stdout",
     "output_type": "stream",
     "text": [
      "Введите первое число: 5\n",
      "Введите второе число: 6\n",
      "5\n"
     ]
    }
   ],
   "source": [
    "a = int(input('Введите первое число: '))\n",
    "b = int(input('Введите второе число: '))\n",
    "if a < b: \n",
    "    print(a)\n",
    "else:\n",
    "    if a > b: # обратите внимание, здесь одно условие находится внутри другого, и код ниже будет писаться после двойного отступа\n",
    "        print(b)\n",
    "    else:\n",
    "        print('Равные числа:', a)"
   ]
  },
  {
   "cell_type": "markdown",
   "metadata": {
    "id": "-apLWq76DJNR"
   },
   "source": [
    "Неплохо, но можно упростить это решение с помощью конструкции **`else` `if` (или `elif`)**, которая позволяет в случае ложности условия сразу же написать еще одну проверку.\n",
    "\n",
    "Вот как будет выглядеть решение нашей задачи с помощью `elif`:"
   ]
  },
  {
   "cell_type": "code",
   "execution_count": null,
   "metadata": {
    "colab": {
     "base_uri": "https://localhost:8080/"
    },
    "id": "inBZgMPIDJNR",
    "outputId": "35dbb53a-1463-4654-fed6-961060027434"
   },
   "outputs": [],
   "source": [
    "a = int(input('Введите первое число: '))\n",
    "b = int(input('Введите второе число: '))\n",
    "\n",
    "if a < b: \n",
    "    print(a)\n",
    "elif a > b: \n",
    "    print(b)\n",
    "else:\n",
    "    print('Равные числа:', a)"
   ]
  },
  {
   "cell_type": "markdown",
   "metadata": {
    "id": "dpp95noHDJNS"
   },
   "source": [
    "## Task #1"
   ]
  },
  {
   "cell_type": "markdown",
   "metadata": {
    "id": "ahNw__GEDJNS"
   },
   "source": [
    "### Распродажа\n",
    "\n",
    "В магазине проходит акция:\n",
    "* На все товары дешевле 1000 рублей скидка 15%\n",
    "* На все товары дороже 1000, но дешевле 5000 рублей скидка 20%\n",
    "* На все товары дороже 5000 рублей скидка 25%\n",
    "\n",
    "**Ввод**  \n",
    "Целое неотрицательное число - цена товара в рублях\n",
    "\n",
    "**Вывод**  \n",
    "Целое неотрицательное число - скидка на товар в рублях"
   ]
  },
  {
   "cell_type": "code",
   "execution_count": 12,
   "metadata": {
    "colab": {
     "base_uri": "https://localhost:8080/"
    },
    "id": "mB_hL0AmDJNT",
    "outputId": "ef1720bc-6851-425b-da81-c0d452238b42"
   },
   "outputs": [
    {
     "name": "stdout",
     "output_type": "stream",
     "text": [
      "Введите число: 8950\n",
      "Скидка составит:  2237.5\n"
     ]
    }
   ],
   "source": [
    "p = int(input('Введите число: '))\n",
    "x = 0\n",
    "if p <= 1000:\n",
    "    x = p / 100 * 15\n",
    "    print('Скидка составит: ', x)\n",
    "elif p > 1000 and p < 5000:\n",
    "    x = p / 100 * 20\n",
    "    print('Скидка составит: ', x)\n",
    "else:\n",
    "    x = p / 100 * 25\n",
    "print('Скидка составит: ', x)"
   ]
  },
  {
   "cell_type": "markdown",
   "metadata": {
    "id": "gLrMjv9BDJNT"
   },
   "source": [
    "# Цикл while"
   ]
  },
  {
   "cell_type": "markdown",
   "metadata": {
    "id": "OjBSSFiyDJNU"
   },
   "source": [
    "Довольно часто задачи требуют от нас несколько раз выполнить однотипный код.\n",
    "\n",
    "Если писать несколько раз одни и те же строки, это загромождает программу. Иногда несколько раз превращается в много (100 или 10000).\n",
    "А иногда это число вообще зависит от параметров ввода.\n",
    "\n",
    "Справиться с этим помогают **циклы**. На этом семинаре мы поработаем с циклом **`while` (пока)**"
   ]
  },
  {
   "cell_type": "markdown",
   "metadata": {
    "id": "PmpkZqFUDJNU"
   },
   "source": [
    "Прицип использования цикла while: записываем логическое выражение и некоторый код. Код будет выполняться до тех пор, пока логическое выражение верно.\n",
    "\n",
    "Например, давайте напечатаем все целые числа от 1 до 10."
   ]
  },
  {
   "cell_type": "code",
   "execution_count": 13,
   "metadata": {},
   "outputs": [
    {
     "name": "stdout",
     "output_type": "stream",
     "text": [
      "1\n",
      "2\n",
      "3\n",
      "4\n",
      "5\n",
      "6\n",
      "7\n",
      "8\n",
      "9\n",
      "10\n"
     ]
    }
   ],
   "source": [
    "i = 0 #i несет и содержательную функцию, и функцию для работы системы, не очень практично\n",
    "while i < 10:\n",
    "    i = i + 1\n",
    "    print(i)"
   ]
  },
  {
   "cell_type": "markdown",
   "metadata": {
    "id": "-xsFtakADJNV"
   },
   "source": [
    "Здесь мы использовали запись `i += 1`. Она эквивалентна `i = i + 1`.  \n",
    "Аналогично можно записывать и другие арифметические операции: например, `-=`"
   ]
  },
  {
   "cell_type": "markdown",
   "metadata": {
    "id": "ldhbPmeGDJNV"
   },
   "source": [
    "Обратите внимание, что код внутри цикла (тот, который мы хотим повторно выполнять), выделяется отступом."
   ]
  },
  {
   "cell_type": "markdown",
   "metadata": {
    "id": "wE8sRsKzDJNV"
   },
   "source": [
    "## Операторы break и continue."
   ]
  },
  {
   "cell_type": "markdown",
   "metadata": {
    "id": "fewdNAzBDJNW"
   },
   "source": [
    "Циклами можно управлять с помощью операторов **`break`**, **`continue`**."
   ]
  },
  {
   "cell_type": "markdown",
   "metadata": {
    "id": "CFla2D7nDJNW"
   },
   "source": [
    "**`break`** внутри цикла позволяет прервать его выполнение и сразу же перейти к коду, который идет после цикла (либо завершить программу).  \n",
    "\n",
    "В этом случае мы можем написать сразу после цикла секцию **`else`** (синтаксис при этом такой же, как и в условиях).  \n",
    "Код, написанный после **`else`**, будет выполняться, если цикл завершился \"естественным путем\" (т.е. не был прерван с помощью `break`)."
   ]
  },
  {
   "cell_type": "code",
   "execution_count": 15,
   "metadata": {},
   "outputs": [
    {
     "name": "stdout",
     "output_type": "stream",
     "text": [
      "0\n",
      "2\n",
      "4\n",
      "6\n",
      "8\n",
      "10\n",
      "12\n",
      "14\n"
     ]
    }
   ],
   "source": [
    "index_while = 0 #техническая переменная для реализации алгоритма\n",
    "value = 0\n",
    "while index_while <= 15:\n",
    "    if value % 2 == 0:\n",
    "        print(value)\n",
    "    index_while = index_while + 1\n",
    "    value = value + 1"
   ]
  },
  {
   "cell_type": "markdown",
   "metadata": {
    "id": "bYa2rKsDDJNY"
   },
   "source": [
    "Оператор **continue** позволяет сразу же перейти на новую итерацию цикла, не выполняя код, который написан внутри цикла ниже его."
   ]
  },
  {
   "cell_type": "code",
   "execution_count": 14,
   "metadata": {
    "colab": {
     "base_uri": "https://localhost:8080/"
    },
    "id": "z5_n4cQHDJNU",
    "outputId": "bb91db78-e694-43d3-e9af-209093d0f60a"
   },
   "outputs": [
    {
     "name": "stdout",
     "output_type": "stream",
     "text": [
      "0\n",
      "Round #1\n",
      "1\n",
      "Round #2\n",
      "2\n",
      "Round #3\n",
      "3\n",
      "Round #4\n",
      "4\n",
      "Round #5\n",
      "5\n",
      "Round #6\n",
      "6\n",
      "7\n",
      "Round #8\n",
      "8\n",
      "Round #9\n",
      "9\n",
      "Round #10\n",
      "10\n",
      "Round #11\n"
     ]
    }
   ],
   "source": [
    "i = 0\n",
    "while i < 11:\n",
    "    print(i)\n",
    "    i += 1\n",
    "    if i == 7:\n",
    "        continue \n",
    "    print(f\"Round #{i}\")\n"
   ]
  },
  {
   "cell_type": "markdown",
   "metadata": {
    "id": "ggOESFHqDJNX"
   },
   "source": [
    "## Task #2\n",
    "\n",
    "Рассмотрим пример задачи, которую можно решить с использованием `break`. \n",
    "\n",
    "Пусть студент сдал 5 предметов во время сессии и мы хотим узнать, есть ли у него пересдачи\n",
    "\n",
    "**Формат ввода**  \n",
    "До пяти оценок от 1 до 10\n",
    "\n",
    "**Формат вывода**  \n",
    "Если хотя бы одна из оценок меньше 4, завершаем программу и печатаем 'YES' (пересдачи есть)  \n",
    "Если все пять оценок больше 3, печатаем 'NO' (студент закрыл сессию без пересдач)"
   ]
  },
  {
   "cell_type": "code",
   "execution_count": null,
   "metadata": {},
   "outputs": [],
   "source": []
  },
  {
   "cell_type": "code",
   "execution_count": 18,
   "metadata": {},
   "outputs": [
    {
     "name": "stdout",
     "output_type": "stream",
     "text": [
      "Введите оценку: 6\n",
      "Введите оценку: 6\n",
      "Введите оценку: 6\n",
      "Введите оценку: 6\n",
      "Введите оценку: 6\n",
      "No\n"
     ]
    }
   ],
   "source": [
    "index_while = 0\n",
    "\n",
    "threshold = 4 # порог сдачи экзамена \n",
    "\n",
    "while index_while < 5:\n",
    "    \n",
    "    grad = int(input(\"Введите оценку: \"))\n",
    "    \n",
    "    if grad < threshold:\n",
    "        print(\"Yes\")\n",
    "        break\n",
    "        \n",
    "    index_while = index_while + 1\n",
    "    \n",
    "else:\n",
    "    print(\"No\")    \n"
   ]
  },
  {
   "cell_type": "markdown",
   "metadata": {},
   "source": [
    "## Task #3"
   ]
  },
  {
   "cell_type": "markdown",
   "metadata": {
    "id": "CrurAnrCDJNY"
   },
   "source": [
    "Изменим условие задачи - теперь будем считать количество пересдач у студента"
   ]
  },
  {
   "cell_type": "code",
   "execution_count": 19,
   "metadata": {
    "colab": {
     "base_uri": "https://localhost:8080/"
    },
    "id": "rlkdSkaaDJNZ",
    "outputId": "00d9994e-9c39-4e35-8518-0efb77619193"
   },
   "outputs": [
    {
     "name": "stdout",
     "output_type": "stream",
     "text": [
      "Введите оценку: 5\n",
      "Введите оценку: 5\n",
      "Введите оценку: 6\n",
      "Введите оценку: 3\n",
      "Введите оценку: 2\n",
      "2\n"
     ]
    }
   ],
   "source": [
    "index_while = 0\n",
    "line = 4\n",
    "p = 0\n",
    "while index_while < 5:\n",
    "    grad = int(input('Введите оценку: '))\n",
    "    index_while += 1\n",
    "    if grad < line:\n",
    "        p = p + 1\n",
    "print(p)"
   ]
  },
  {
   "cell_type": "markdown",
   "metadata": {
    "id": "lRluYab0DJNc"
   },
   "source": [
    "##  Task #4\n",
    "Вася начал бегать и в первый день он пробежал `X` километров и выдохся. Вася поставил себе цель `Y` километров и решил узнать, когда он ее достигнет, если каждый день будет бегать дистанцию на 10% больше, чем в предыдущий.\n",
    "\n",
    "**Формат ввода**\n",
    "\n",
    "Программа получает на вход целые числа `X`, `Y`\n",
    "\n",
    "**Формат вывода**\n",
    "\n",
    "Одно целое число (день, когда Вася пробежит свою цель)\n",
    "\n",
    "**Примеры**  \n",
    "**Ввод:**  \n",
    "10  \n",
    "21\n",
    "\n",
    "**Вывод:**  \n",
    "9"
   ]
  },
  {
   "cell_type": "code",
   "execution_count": 31,
   "metadata": {
    "scrolled": true
   },
   "outputs": [
    {
     "name": "stdout",
     "output_type": "stream",
     "text": [
      "Сколько км Вася пробежал в первый день?10\n",
      "Сколько км Вася хочет пробежать в итоге?21\n",
      "9\n"
     ]
    }
   ],
   "source": [
    "x = int(input('Сколько км Вася пробежал в первый день?'))\n",
    "y = int(input('Сколько км Вася хочет пробежать в итоге?'))\n",
    "days = 1\n",
    "\n",
    "while x < y:\n",
    "    x = (x / 100 * 10) + x \n",
    "    days += 1\n",
    "print(days)"
   ]
  },
  {
   "cell_type": "markdown",
   "metadata": {
    "id": "MvErnJPFDJNe"
   },
   "source": [
    "## Task #5\n",
    "\n",
    "## Cложные проценты\n",
    "Процентная ставка по вкладу составляет `P` процентов годовых, которые прибавляются к сумме вклада через год. Вклад составляет `X` рублей `Y` копеек. Дробное число копеек по истечении года отбрасывается. `K` - количество лет, на которые положен вклад. Выведите величину вклада в рублях\n",
    "\n",
    "**Формат ввода**\n",
    "\n",
    "Программа получает на вход целые числа `P`, `X`, `Y`, `K`.\n",
    "\n",
    "**Формат вывода**\n",
    "\n",
    "Программа должна вывести два числа: величину вклада через `K` лет в рублях и копейках. Перерасчет суммы вклада (с отбрасыванием дробных частей копеек) происходит ежегодно.\n",
    "\n",
    "**Примеры**  \n",
    "Тест 1  \n",
    "**Входные данные:**  \n",
    "12  \n",
    "179  \n",
    "0  \n",
    "5  \n",
    "\n",
    "**Вывод программы:**  \n",
    "315 43\n",
    "\n",
    "Тест 2  \n",
    "**Входные данные:**  \n",
    "13  \n",
    "179  \n",
    "0  \n",
    "100  \n",
    "\n",
    "**Вывод программы:**   \n",
    "36360285 50\n",
    "\n",
    "Тест 3  \n",
    "**Входные данные:**   \n",
    "1  \n",
    "1  \n",
    "0  \n",
    "1000  \n",
    "\n",
    "**Вывод программы:**  \n",
    "11881 92"
   ]
  },
  {
   "cell_type": "code",
   "execution_count": null,
   "metadata": {},
   "outputs": [],
   "source": []
  },
  {
   "cell_type": "markdown",
   "metadata": {},
   "source": [
    "## Task #6\n",
    "\n",
    "Write a Python program to get the Fibonacci series between `0` to `50`.\n",
    "\n",
    "Note: The Fibonacci Sequence is the series of numbers:\n",
    "\n",
    "`0, 1, 1, 2, 3, 5, 8, 13, 21, ....`\n",
    "\n",
    "\n",
    "Every next number is found by adding up the two numbers before it.\n",
    "\n",
    "Input: `8`\n",
    "\n",
    "Expected Output : `21`"
   ]
  },
  {
   "cell_type": "markdown",
   "metadata": {
    "colab": {
     "base_uri": "https://localhost:8080/"
    },
    "id": "KIYLXgJNDJNe",
    "outputId": "80e1f45b-acbe-436a-9ff0-a25f4bf2bcf4"
   },
   "source": [
    " # Home tasks"
   ]
  },
  {
   "cell_type": "markdown",
   "metadata": {},
   "source": [
    "## Task #1\n",
    "Write a Python program to find those numbers which are divisible by `7` and multiple of `5`, between `1500` and `2700` (both included)."
   ]
  },
  {
   "cell_type": "code",
   "execution_count": null,
   "metadata": {
    "scrolled": true
   },
   "outputs": [],
   "source": [
    "i = 1500\n",
    "while i>= 1500 and i <= 2700:\n",
    "    if i % 7 == 0 and i % 5 == 0:\n",
    "        print(i)\n",
    "    i += 1"
   ]
  },
  {
   "cell_type": "markdown",
   "metadata": {},
   "source": [
    "## Task #2\n",
    "Write a Python program to construct the following pattern, using a nested for loop."
   ]
  },
  {
   "cell_type": "code",
   "execution_count": null,
   "metadata": {},
   "outputs": [],
   "source": [
    "# * \n",
    "# * * \n",
    "# * * * \n",
    "# * * * * \n",
    "# * * * * * \n",
    "# * * * * \n",
    "# * * * \n",
    "# * * \n",
    "# *"
   ]
  },
  {
   "cell_type": "code",
   "execution_count": 18,
   "metadata": {},
   "outputs": [
    {
     "name": "stdout",
     "output_type": "stream",
     "text": [
      "*\n",
      "**\n",
      "***\n",
      "****\n",
      "*****\n"
     ]
    },
    {
     "ename": "TypeError",
     "evalue": "unsupported operand type(s) for -=: 'str' and 'str'",
     "output_type": "error",
     "traceback": [
      "\u001b[0;31m---------------------------------------------------------------------------\u001b[0m",
      "\u001b[0;31mTypeError\u001b[0m                                 Traceback (most recent call last)",
      "Input \u001b[0;32mIn [18]\u001b[0m, in \u001b[0;36m<cell line: 3>\u001b[0;34m()\u001b[0m\n\u001b[1;32m      4\u001b[0m \u001b[38;5;28mprint\u001b[39m (i)\n\u001b[1;32m      5\u001b[0m \u001b[38;5;28;01mif\u001b[39;00m i \u001b[38;5;241m==\u001b[39m \u001b[38;5;124m'\u001b[39m\u001b[38;5;124m*\u001b[39m\u001b[38;5;124m'\u001b[39m \u001b[38;5;241m*\u001b[39m \u001b[38;5;241m5\u001b[39m:\n\u001b[0;32m----> 6\u001b[0m     i \u001b[38;5;241m-\u001b[39m\u001b[38;5;241m=\u001b[39m \u001b[38;5;124m'\u001b[39m\u001b[38;5;124m*\u001b[39m\u001b[38;5;124m'\u001b[39m\n\u001b[1;32m      7\u001b[0m \u001b[38;5;28;01melse\u001b[39;00m:\n\u001b[1;32m      8\u001b[0m     i \u001b[38;5;241m+\u001b[39m\u001b[38;5;241m=\u001b[39m \u001b[38;5;124m'\u001b[39m\u001b[38;5;124m*\u001b[39m\u001b[38;5;124m'\u001b[39m\n",
      "\u001b[0;31mTypeError\u001b[0m: unsupported operand type(s) for -=: 'str' and 'str'"
     ]
    }
   ],
   "source": [
    "i = '*'\n",
    "a = 0\n",
    "while a <= 10:\n",
    "    print (i)\n",
    "    if i == '*' * 5:\n",
    "        i = i '*'\n",
    "    else:\n",
    "        i += '*'\n",
    "    a += 1"
   ]
  },
  {
   "cell_type": "markdown",
   "metadata": {},
   "source": [
    "## Task #3 "
   ]
  },
  {
   "cell_type": "markdown",
   "metadata": {},
   "source": [
    "Write a Python program that prints all the numbers from `0` to `6` except `3` and `6`.\n",
    "\n",
    "Note : Use `continue` statement."
   ]
  },
  {
   "cell_type": "code",
   "execution_count": null,
   "metadata": {},
   "outputs": [],
   "source": []
  },
  {
   "cell_type": "markdown",
   "metadata": {},
   "source": [
    "## Task #4 \n",
    "Write a Python program to check a triangle is equilateral, isosceles or scalene.\n",
    "\n",
    "Note :\n",
    "* An equilateral triangle is a triangle in which all three sides are equal.\n",
    "* A scalene triangle is a triangle that has three unequal sides.\n",
    "* An isosceles triangle is a triangle with (at least) two equal sides.\n",
    "\n",
    "\n",
    "Expected Output:\n",
    "\n",
    "`Input lengths of the triangle sides:`                                    \n",
    "`x: 6`                                                                    \n",
    "`y: 8`                                                                    \n",
    "`z: 12`                                                                   \n",
    "`Scalene triangle` \n"
   ]
  },
  {
   "cell_type": "code",
   "execution_count": null,
   "metadata": {},
   "outputs": [],
   "source": []
  },
  {
   "cell_type": "markdown",
   "metadata": {},
   "source": [
    "## Task #5\n"
   ]
  },
  {
   "cell_type": "markdown",
   "metadata": {},
   "source": [
    "Write a Python program to get next day of a given date.\n",
    "\n",
    "Expected Output:\n",
    "\n",
    "`Input a year: 2016`                                                     \n",
    "`Input a month [1-12]: 08`                                           \n",
    "`Input a day [1-31]: 23`                                                  \n",
    "`The next date is [yyyy-mm-dd] 2016-8-24`  "
   ]
  },
  {
   "cell_type": "code",
   "execution_count": null,
   "metadata": {},
   "outputs": [],
   "source": []
  }
 ],
 "metadata": {
  "colab": {
   "collapsed_sections": [],
   "name": "If_Else.ipynb",
   "provenance": []
  },
  "kernelspec": {
   "display_name": "Python 3 (ipykernel)",
   "language": "python",
   "name": "python3"
  },
  "language_info": {
   "codemirror_mode": {
    "name": "ipython",
    "version": 3
   },
   "file_extension": ".py",
   "mimetype": "text/x-python",
   "name": "python",
   "nbconvert_exporter": "python",
   "pygments_lexer": "ipython3",
   "version": "3.9.1"
  }
 },
 "nbformat": 4,
 "nbformat_minor": 1
}
